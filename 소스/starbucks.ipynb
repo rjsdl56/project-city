{
 "cells": [
  {
   "cell_type": "markdown",
   "metadata": {},
   "source": [
    "### 스타벅스 크롤링"
   ]
  },
  {
   "cell_type": "code",
   "execution_count": 1,
   "metadata": {},
   "outputs": [
    {
     "name": "stdout",
     "output_type": "stream",
     "text": [
      "528\n"
     ]
    },
    {
     "ename": "AttributeError",
     "evalue": "'NoneType' object has no attribute 'text'",
     "output_type": "error",
     "traceback": [
      "\u001b[1;31m---------------------------------------------------------------------------\u001b[0m",
      "\u001b[1;31mAttributeError\u001b[0m                            Traceback (most recent call last)",
      "\u001b[1;32m<ipython-input-1-f18467d6978d>\u001b[0m in \u001b[0;36m<module>\u001b[1;34m\u001b[0m\n\u001b[0;32m     30\u001b[0m     \u001b[0mshopname\u001b[0m \u001b[1;33m=\u001b[0m \u001b[0mshop\u001b[0m\u001b[1;33m.\u001b[0m\u001b[0mfind_element_by_tag_name\u001b[0m\u001b[1;33m(\u001b[0m\u001b[1;34m\"strong\"\u001b[0m\u001b[1;33m)\u001b[0m\u001b[1;33m\u001b[0m\u001b[1;33m\u001b[0m\u001b[0m\n\u001b[0;32m     31\u001b[0m     \u001b[0mshopinfo\u001b[0m \u001b[1;33m=\u001b[0m \u001b[0mshop\u001b[0m\u001b[1;33m.\u001b[0m\u001b[0mfind_element_by_tag_name\u001b[0m\u001b[1;33m(\u001b[0m\u001b[1;34m\"p\"\u001b[0m\u001b[1;33m)\u001b[0m\u001b[1;33m\u001b[0m\u001b[1;33m\u001b[0m\u001b[0m\n\u001b[1;32m---> 32\u001b[1;33m     \u001b[0msplitinfo\u001b[0m \u001b[1;33m=\u001b[0m \u001b[0mshopinfo\u001b[0m\u001b[1;33m.\u001b[0m\u001b[0mtext\u001b[0m\u001b[1;33m.\u001b[0m\u001b[0msplit\u001b[0m\u001b[1;33m(\u001b[0m\u001b[1;34m'\\n'\u001b[0m\u001b[1;33m)\u001b[0m\u001b[1;33m\u001b[0m\u001b[1;33m\u001b[0m\u001b[0m\n\u001b[0m\u001b[0;32m     33\u001b[0m     \u001b[1;32mif\u001b[0m\u001b[1;33m(\u001b[0m\u001b[0mlen\u001b[0m\u001b[1;33m(\u001b[0m\u001b[0msplitinfo\u001b[0m\u001b[1;33m)\u001b[0m \u001b[1;33m==\u001b[0m \u001b[1;36m2\u001b[0m\u001b[1;33m)\u001b[0m\u001b[1;33m:\u001b[0m\u001b[1;33m\u001b[0m\u001b[1;33m\u001b[0m\u001b[0m\n\u001b[0;32m     34\u001b[0m         \u001b[0maddr\u001b[0m \u001b[1;33m=\u001b[0m \u001b[0msplitinfo\u001b[0m\u001b[1;33m[\u001b[0m\u001b[1;36m0\u001b[0m\u001b[1;33m]\u001b[0m\u001b[1;33m\u001b[0m\u001b[1;33m\u001b[0m\u001b[0m\n",
      "\u001b[1;31mAttributeError\u001b[0m: 'NoneType' object has no attribute 'text'"
     ]
    }
   ],
   "source": [
    "from selenium import webdriver\n",
    "\n",
    "driver = webdriver.Chrome('C:/Temp/chromedriver')\n",
    "driver.implicitly_wait(3) \n",
    "\n",
    "driver.get(\"https://www.istarbucks.co.kr/store/store_map.do\")\n",
    "import time\n",
    "time.sleep(2)\n",
    "loca = driver.find_element_by_class_name('loca_search')\n",
    "loca.click()\n",
    "time.sleep(2)\n",
    "f_link = driver.find_element_by_css_selector(\"div.loca_step1_cont > ul > li:nth-child(1) > a\")\n",
    "f_link.click()\n",
    "time.sleep(2)\n",
    "s_link = driver.find_element_by_css_selector(\"#mCSB_2_container > ul > li:nth-child(1) > a\")\n",
    "s_link.click()\n",
    "time.sleep(2)\n",
    "shopList = driver.find_elements_by_css_selector(\"#mCSB_3_container > ul > li\")\n",
    "\n",
    "temp_list = []\n",
    "time.sleep(3)\n",
    "count = 0\n",
    "total = len(shopList)\n",
    "print(total)\n",
    "for shop in shopList :    \n",
    "    count += 1\n",
    "    #print(count)\n",
    "    shoplat = shop.get_attribute(\"data-lat\")\n",
    "    shoplong = shop.get_attribute(\"data-long\")\n",
    "    shopname = shop.find_element_by_tag_name(\"strong\")\n",
    "    shopinfo = shop.find_element_by_tag_name(\"p\")\n",
    "    splitinfo = shopinfo.text.split('\\n')\n",
    "    if(len(splitinfo) == 2):\n",
    "        addr = splitinfo[0]\n",
    "        phonenum = splitinfo[1]\n",
    "    temp_list.append([shopname.text, shoplat, shoplong, addr, phonenum])\n",
    "    if count != total and count % 3 == 0: #3개씩 렌더링이 됨\n",
    "        driver.execute_script(\"var su = arguments[0]; var dom=document.querySelectorAll('#mCSB_3_container > ul > li')[su]; dom.scrollIntoView();\", count)\n",
    "with open('data/starbucks.txt', \"wt\", encoding=\"utf-8\") as f:\n",
    "    for item in temp_list :\n",
    "        f.write(str(item)+'\\n')"
   ]
  },
  {
   "cell_type": "code",
   "execution_count": 32,
   "metadata": {},
   "outputs": [],
   "source": [
    "import pandas as pd\n",
    "import numpy as np"
   ]
  },
  {
   "cell_type": "code",
   "execution_count": 33,
   "metadata": {},
   "outputs": [],
   "source": [
    "#print(temp_list) # 데이터는 temp_list에 저장되어 있음, 위/경도, 주소만 필요. 1, 2, 3\n",
    "lat = pd.DataFrame(temp_list)[1]\n",
    "lat = lat.to_list()\n",
    "\n",
    "long = pd.DataFrame(temp_list)[2]\n",
    "long = long.to_list()\n",
    "\n",
    "addr = pd.DataFrame(temp_list)[3]\n",
    "addr = addr.to_list()"
   ]
  },
  {
   "cell_type": "code",
   "execution_count": 38,
   "metadata": {},
   "outputs": [
    {
     "name": "stdout",
     "output_type": "stream",
     "text": [
      "               0\n",
      "0      37.501087\n",
      "1      37.510178\n",
      "2      37.514132\n",
      "3      37.499517\n",
      "4      37.494668\n",
      "..           ...\n",
      "523  37.60538908\n",
      "524    37.579594\n",
      "525     37.59689\n",
      "526    37.613433\n",
      "527    37.615368\n",
      "\n",
      "[528 rows x 1 columns]\n",
      "               0\n",
      "0     127.043069\n",
      "1     127.022223\n",
      "2     127.020563\n",
      "3     127.031495\n",
      "4     127.062583\n",
      "..           ...\n",
      "523  127.0957558\n",
      "524   127.087966\n",
      "525    127.08647\n",
      "526   127.077484\n",
      "527   127.076633\n",
      "\n",
      "[528 rows x 1 columns]\n",
      "                                     0\n",
      "0              서울특별시 강남구 언주로 425 (역삼동)\n",
      "1             서울특별시 강남구 강남대로 538 (논현동)\n",
      "2             서울특별시 강남구 강남대로 584 (논현동)\n",
      "3             서울특별시 강남구 테헤란로 125 (역삼동)\n",
      "4           서울특별시 강남구 남부순환로 2947 (대치동)\n",
      "..                                 ...\n",
      "523                   서울특별시 중랑구 신내로 72\n",
      "524                  서울특별시 중랑구 면목로 310\n",
      "525    서울특별시 중랑구 망우로 307, ,3,4번지 (상봉동)\n",
      "526  서울특별시 중랑구 동일로 932, 묵동이마트 B1층 (묵동)\n",
      "527                  서울특별시 중랑구 동일로 952\n",
      "\n",
      "[528 rows x 1 columns]\n"
     ]
    }
   ],
   "source": [
    "df1 = pd.DataFrame(lat)\n",
    "print(df1)\n",
    "df2 = pd.DataFrame(long)\n",
    "df3 = pd.DataFrame(addr)\n",
    "print(df2)\n",
    "print(df3)"
   ]
  },
  {
   "cell_type": "code",
   "execution_count": 39,
   "metadata": {},
   "outputs": [
    {
     "name": "stdout",
     "output_type": "stream",
     "text": [
      "           0           0                           0\n",
      "0  37.501087  127.043069     서울특별시 강남구 언주로 425 (역삼동)\n",
      "1  37.510178  127.022223    서울특별시 강남구 강남대로 538 (논현동)\n",
      "2  37.514132  127.020563    서울특별시 강남구 강남대로 584 (논현동)\n",
      "3  37.499517  127.031495    서울특별시 강남구 테헤란로 125 (역삼동)\n",
      "4  37.494668  127.062583  서울특별시 강남구 남부순환로 2947 (대치동)\n"
     ]
    }
   ],
   "source": [
    "starbucks = pd.concat([df1, df2, df3], axis=1)\n",
    "print(starbucks.head())"
   ]
  },
  {
   "cell_type": "code",
   "execution_count": 40,
   "metadata": {},
   "outputs": [],
   "source": [
    "starbucks.to_csv(\"data/starbucks.csv\", header=None)"
   ]
  },
  {
   "cell_type": "code",
   "execution_count": null,
   "metadata": {},
   "outputs": [],
   "source": []
  },
  {
   "cell_type": "code",
   "execution_count": null,
   "metadata": {},
   "outputs": [],
   "source": [
    "## 도로명주소를 동으로 바꿔보자"
   ]
  },
  {
   "cell_type": "code",
   "execution_count": 20,
   "metadata": {},
   "outputs": [
    {
     "name": "stdout",
     "output_type": "stream",
     "text": [
      "서울특별시 강남구 논현동 18-4\n"
     ]
    }
   ],
   "source": [
    "import pandas as pd\n",
    "starbucks = pd.read_csv(\"data/pro_data/starbucks.csv\",header=None)\n",
    "starbucks.columns=['no', 'lat', 'lng', 'road']\n",
    "\n",
    "\n",
    "from selenium import webdriver\n",
    "from selenium.webdriver.common.keys import Keys\n",
    "\n",
    "driver = webdriver.Chrome('C:/Temp/chromedriver')\n",
    "driver.implicitly_wait(3) \n",
    "\n",
    "driver.get(\"https://www.naver.com\")\n",
    "target=driver.find_element_by_css_selector(\"[name = 'query']\")\n",
    "# for i in range (len(starbucks)) :\n",
    "target.send_keys(starbucks['road'].iloc[2])\n",
    "target.send_keys(Keys.ENTER)\n",
    "\n",
    "import time\n",
    "time.sleep(2)\n",
    "loca = driver.find_element_by_id('no-matched-address-list') # 아니 씨발 무슨 id가 다 달라\n",
    "print(loca.text)\n",
    "time.sleep(2)\n",
    "# time.sleep(2)\n",
    "# f_link = driver.find_element_by_css_selector(\"div.loca_step1_cont > ul > li:nth-child(1) > a\")\n",
    "# f_link.click()\n",
    "# time.sleep(2)\n",
    "# s_link = driver.find_element_by_css_selector(\"#mCSB_2_container > ul > li:nth-child(1) > a\")\n",
    "# s_link.click()\n",
    "# time.sleep(2)\n",
    "# shopList = driver.find_elements_by_css_selector(\"#mCSB_3_container > ul > li\")\n",
    "\n",
    "# temp_list = []\n",
    "# time.sleep(3)\n",
    "# count = 0\n",
    "# total = len(shopList)\n",
    "# print(total)\n",
    "# for shop in shopList :    \n",
    "#     count += 1\n",
    "#     #print(count)\n",
    "#     shoplat = shop.get_attribute(\"data-lat\")\n",
    "#     shoplong = shop.get_attribute(\"data-long\")\n",
    "#     shopname = shop.find_element_by_tag_name(\"strong\")\n",
    "#     shopinfo = shop.find_element_by_tag_name(\"p\")\n",
    "#     splitinfo = shopinfo.text.split('\\n')\n",
    "#     if(len(splitinfo) == 2):\n",
    "#         addr = splitinfo[0]\n",
    "#         phonenum = splitinfo[1]\n",
    "#     temp_list.append([shopname.text, shoplat, shoplong, addr, phonenum])\n",
    "#     if count != total and count % 3 == 0: #3개씩 렌더링이 됨\n",
    "#         driver.execute_script(\"var su = arguments[0]; var dom=document.querySelectorAll('#mCSB_3_container > ul > li')[su]; dom.scrollIntoView();\", count)\n",
    "# with open('data/starbucks.txt', \"wt\", encoding=\"utf-8\") as f:\n",
    "#     for item in temp_list :\n",
    "#         f.write(str(item)+'\\n')"
   ]
  },
  {
   "cell_type": "code",
   "execution_count": null,
   "metadata": {},
   "outputs": [],
   "source": []
  }
 ],
 "metadata": {
  "kernelspec": {
   "display_name": "pydatavenv",
   "language": "python",
   "name": "pydatavenv"
  },
  "language_info": {
   "codemirror_mode": {
    "name": "ipython",
    "version": 3
   },
   "file_extension": ".py",
   "mimetype": "text/x-python",
   "name": "python",
   "nbconvert_exporter": "python",
   "pygments_lexer": "ipython3",
   "version": "3.7.9"
  }
 },
 "nbformat": 4,
 "nbformat_minor": 4
}
