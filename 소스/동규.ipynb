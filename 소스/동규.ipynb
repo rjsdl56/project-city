{
 "cells": [
  {
   "cell_type": "code",
   "execution_count": 1,
   "metadata": {},
   "outputs": [
    {
     "name": "stdout",
     "output_type": "stream",
     "text": [
      "출발 :  돈암2동주민센터입구.흥천사\n",
      "도착 :  을지로입구역.광교\n",
      "이동시간 :  <time>\n",
      "출발 :  서울신문사\n",
      "도착 :  종로4가.종묘\n",
      "이동시간 :  <time>\n",
      "출발 :  종로3가역\n",
      "도착 :  25330\n",
      "이동시간 :  \n",
      "출발 :  홍제삼거리.인왕산한신휴플러스\n",
      "도착 :  롯데백화점\n",
      "이동시간 :  \n",
      "출발 :  서울특별시어린이병원.강동-송파예비군\n",
      "도착 :  서울백병원.국가인권위.안중근활동터\n",
      "이동시간 :  \n",
      "출발 :  종로4가.종묘\n",
      "도착 :  종로5가.효제초등학교\n",
      "이동시간 :  <time>\n"
     ]
    },
    {
     "data": {
      "text/plain": [
       "'\\nwith open(\\'C:/Temp/TravelTime.csv\\', \"wt\", encoding=\"utf-8\") as f:\\n    f.write(\\'start_place,end_place,travelTime\\n\\')\\n    for i in range(len(start_place)):\\n        f.write(\\'\"\\' + start_place[i] + \\'\",\\' + end_place[i] + \\'\",\\' + travelTime[i] + \\'\\n\\')\\n'"
      ]
     },
     "execution_count": 1,
     "metadata": {},
     "output_type": "execute_result"
    }
   ],
   "source": [
    "from selenium import webdriver\n",
    "import pandas as pd\n",
    "\n",
    "'''\n",
    "127.014   37.596326\n",
    "126.979   37.568157\n",
    "126.993   37.572195\n",
    "126.949   37.587077\n",
    "127.077   37.458150\n",
    "126.994   37.569238\n",
    "127.003   37.573050\n",
    "'''\n",
    "x = ['127.014', '126.979', '126.993', '126.949', '127.077', '126.994', '127.003']\n",
    "y = ['37.596326', '37.568157', '37.572195', '37.587077', '37.458150', '37.569238', '37.573050']\n",
    "\n",
    "driver = webdriver.Chrome('C:/Temp/chromedriver.exe')\n",
    "driver.implicitly_wait(3)\n",
    "url_startX = 'http://ws.bus.go.kr/api/rest/pathinfo/getPathInfoByBusNSub?ServiceKey=MT9k5VcAGch1xQwYHcvv1ej9TCzetVpOFC3ikeBe44U2S11WVLlIgwMvCEbKvoX1zqCgJ58UcWwtiLENWlnzdA%3D%3D&startX='\n",
    "url_startY = '&startY='\n",
    "url_endX = '&endX='\n",
    "url_endY = '&endY='\n",
    "df = pd.DataFrame(columns=['start_place', 'end_place', 'travelTime'])\n",
    "for n in range(0,6) :\n",
    "    url = url_startX + x[n] + url_startY + y[n] + url_endX + x[n+1] + url_endY + y[n+1]\n",
    "    driver.get(url)\n",
    "    driver.implicitly_wait(5)\n",
    "    start_place = driver.find_element_by_css_selector('#folder4 > div.opened > div:nth-child(2) > span:nth-child(2)').text\n",
    "\n",
    "    end_place = driver.find_element_by_css_selector(\"#folder4 > div.opened > div:nth-child(8) > span:nth-child(2)\").text\n",
    "\n",
    "    travelTime = driver.find_element_by_css_selector('#folder3 > div.opened > div:nth-child(3) > span').text\n",
    "    # folder3 > div.opened > div:nth-child(4) > span:nth-child(2)\n",
    "    driver.implicitly_wait(8)\n",
    "\n",
    "    print(\"출발 : \", start_place)\n",
    "    print(\"도착 : \", end_place)\n",
    "    print(\"이동시간 : \", travelTime)\n",
    "\n",
    "    driver.implicitly_wait(5)\n",
    "#driver.quit()\n",
    "'''\n",
    "with open('C:/Temp/TravelTime.csv', \"wt\", encoding=\"utf-8\") as f:\n",
    "    f.write('start_place,end_place,travelTime\\n')\n",
    "    for i in range(len(start_place)):\n",
    "        f.write('\"' + start_place[i] + '\",' + end_place[i] + '\",' + travelTime[i] + '\\n')\n",
    "'''"
   ]
  },
  {
   "cell_type": "code",
   "execution_count": null,
   "metadata": {},
   "outputs": [],
   "source": []
  }
 ],
 "metadata": {
  "kernelspec": {
   "display_name": "pydatavenv",
   "language": "python",
   "name": "pydatavenv"
  },
  "language_info": {
   "codemirror_mode": {
    "name": "ipython",
    "version": 3
   },
   "file_extension": ".py",
   "mimetype": "text/x-python",
   "name": "python",
   "nbconvert_exporter": "python",
   "pygments_lexer": "ipython3",
   "version": "3.7.9"
  }
 },
 "nbformat": 4,
 "nbformat_minor": 4
}
