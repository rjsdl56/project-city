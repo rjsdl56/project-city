{
 "cells": [
  {
   "cell_type": "code",
   "execution_count": null,
   "metadata": {},
   "outputs": [],
   "source": [
    "# 질문 내용\n",
    "# 왜 색 구현이 안되는지?"
   ]
  },
  {
   "cell_type": "code",
   "execution_count": null,
   "metadata": {},
   "outputs": [],
   "source": [
    "import pandas as pd\n",
    "import json\n",
    "import folium\n",
    "\n",
    "\n",
    "# https://blog.naver.com/kcchang61/221350672356\n",
    "\n",
    "# 구단위 지도 그리기\n",
    "geo_path = './data/pro_data/hankuk2_geo.json'\n",
    "geo_str = json.load(open(geo_path, encoding='utf-8')) # 딕셔너리 객체로 리턴"
   ]
  },
  {
   "cell_type": "code",
   "execution_count": null,
   "metadata": {},
   "outputs": [],
   "source": [
    "# geojson과 동별 인구수를 합친 엑셀 파일 불러오기 --> 구로구 항동 누락값은 직접 추가\n",
    "final_data = pd.read_excel('./data/pro_data/통합정리1.xlsx',  thousands = ',')  # index_col='adm_nm',\n",
    "final_data.columns = final_data.columns.map(str)\n",
    "nm = '인구밀도'\n",
    "final_data.info()"
   ]
  },
  {
   "cell_type": "code",
   "execution_count": null,
   "metadata": {},
   "outputs": [],
   "source": [
    "final_data.head(20)"
   ]
  },
  {
   "cell_type": "code",
   "execution_count": null,
   "metadata": {},
   "outputs": [],
   "source": [
    "# # 지역별, 동별 구분 경계선 \n",
    "map = folium.Map(location=[37.5502, 126.982], zoom_start=12,\n",
    "                 tiles='Stamen Terrain')\n",
    "\n",
    "\n",
    "\n",
    "fmap=folium.Choropleth(geo_data = geo_str,\n",
    "                       data = final_data,\n",
    "                       columns = ('adm_nm', nm), \n",
    "                       fill_color='BuPu', line_opacity=0.9,\n",
    "                       #threshold_scale=[0, 2000, 4000, 6000, 8000, 10000, 10000, 60000], \n",
    "                       key_on='feature.properties.adm_nm'\n",
    "                      ).add_to(map)                             \n",
    "\n",
    "\n",
    "# 지역 이름을 툴팁으로                                  \n",
    "fmap.geojson.add_child(\n",
    "    folium.features.GeoJsonTooltip(['adm_nm'],labels=False) # 해당 지역마다 툴팁으로 마우스오버 작동하게 만듦\n",
    ")   \n",
    "    \n",
    "display(map)"
   ]
  },
  {
   "cell_type": "code",
   "execution_count": null,
   "metadata": {},
   "outputs": [],
   "source": [
    "map.save('../output/result.html')"
   ]
  },
  {
   "cell_type": "code",
   "execution_count": null,
   "metadata": {},
   "outputs": [],
   "source": []
  }
 ],
 "metadata": {
  "kernelspec": {
   "display_name": "pydatavenv",
   "language": "python",
   "name": "pydatavenv"
  },
  "language_info": {
   "codemirror_mode": {
    "name": "ipython",
    "version": 3
   },
   "file_extension": ".py",
   "mimetype": "text/x-python",
   "name": "python",
   "nbconvert_exporter": "python",
   "pygments_lexer": "ipython3",
   "version": "3.7.9"
  }
 },
 "nbformat": 4,
 "nbformat_minor": 4
}
