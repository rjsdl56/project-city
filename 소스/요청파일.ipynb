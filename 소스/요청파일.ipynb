{
 "cells": [
  {
   "cell_type": "markdown",
   "metadata": {},
   "source": [
    "## 요청파일 - 군집분석"
   ]
  },
  {
   "cell_type": "code",
   "execution_count": null,
   "metadata": {},
   "outputs": [],
   "source": [
    "### 군집분석을 해보자 ### 판다스 책 p331\n",
    "\n",
    "### 사전 import\n",
    "import pandas as pd\n",
    "import matplotlib\n",
    "import matplotlib.pyplot as plt\n",
    "from sklearn import preprocessing\n",
    "\n",
    "### matplotlib 한글 깨지는 것 방지\n",
    "from matplotlib import font_manager, rc\n",
    "font_path = \"data/malgun.ttf\"\n",
    "font_name = font_manager.FontProperties(fname=font_path).get_name()\n",
    "plt.rc('font', family=font_name)\n",
    "# print (plt.rcParams['font.family'] )\n",
    "matplotlib.font_manager._rebuild()\n",
    "matplotlib.rcParams['axes.unicode_minus'] = False\n",
    "######################################################################################################################\n",
    "\n",
    "\n",
    "#### 데이터 준비\n",
    "cluster_data = pd.read_excel('./data/pro_data/last.xlsx')\n",
    "cluster_data.fillna(0, inplace=True)\n",
    "cluster_data = cluster_data.drop(cluster_data.columns[[0]], axis=1)\n",
    "cluster_data.set_index(['동'], inplace=True)\n",
    "cluster_data = cluster_data[['경사도', '자전거도로길이', '총거치대수', '총대여수', '인구', '면적', '접근성', '교통편']] # 의미있는 데이터만 추출\n",
    "display(cluster_data)\n",
    "\n",
    "### 정규화\n",
    "def z_score(x):\n",
    "    return (x-x.mean())/x.std()\n",
    "cluster_data = cluster_data.apply(z_score,axis=0)\n",
    "display(cluster_data.head())\n",
    "\n",
    "\n",
    "# 모형 준비\n",
    "x = cluster_data.iloc[:, :]\n",
    "x = preprocessing.StandardScaler().fit(x).transform(x)\n",
    "# print(x[:5])\n",
    "\n",
    "\n",
    "####  모형 학습 및 검증\n",
    "from sklearn import cluster\n",
    "\n",
    "# 모형 객체 생성\n",
    "kmeans = cluster.KMeans(init='k-means++', n_clusters=5, n_init=10)\n",
    "\n",
    "# 모형 학습\n",
    "kmeans.fit(x)\n",
    "\n",
    "# 예측(군집)\n",
    "cluster_label = kmeans.labels_\n",
    "# print(cluster_label)\n",
    "\n",
    "# 예측결과를 데이터베이스에 입력\n",
    "cluster_data['군집'] = cluster_label\n",
    "# display(cluster_data.head(5))\n",
    "\n",
    "# 그래프로 표현 - 시각화\n",
    "cluster_data.plot(kind='scatter', x='경사도', y='총대여수', c='군집', cmap='Set1', colorbar=False, figsize=(5,5))\n",
    "cluster_data.plot(kind='scatter', x='자전거도로길이', y='총대여수', c='군집', cmap='Set1', colorbar=False, figsize=(5,5))\n",
    "cluster_data.plot(kind='scatter', x='총거치대수', y='총대여수', c='군집', cmap='Set1', colorbar=False, figsize=(5,5))\n",
    "cluster_data.plot(kind='scatter', x='인구', y='총대여수', c='군집', cmap='Set1', colorbar=False, figsize=(5,5))\n",
    "cluster_data.plot(kind='scatter', x='면적', y='총대여수', c='군집', cmap='Set1', colorbar=False, figsize=(5,5))\n",
    "cluster_data.plot(kind='scatter', x='접근성', y='총대여수', c='군집', cmap='Set1', colorbar=False, figsize=(5,5))\n",
    "cluster_data.plot(kind='scatter', x='교통편', y='총대여수', c='군집', cmap='Set1', colorbar=False, figsize=(5,5))"
   ]
  }
 ],
 "metadata": {
  "kernelspec": {
   "display_name": "pydatavenv",
   "language": "python",
   "name": "pydatavenv"
  },
  "language_info": {
   "codemirror_mode": {
    "name": "ipython",
    "version": 3
   },
   "file_extension": ".py",
   "mimetype": "text/x-python",
   "name": "python",
   "nbconvert_exporter": "python",
   "pygments_lexer": "ipython3",
   "version": "3.7.9"
  }
 },
 "nbformat": 4,
 "nbformat_minor": 4
}
